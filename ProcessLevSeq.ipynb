{
 "cells": [
  {
   "cell_type": "markdown",
   "id": "83667e39-dfa8-4e6e-85df-df4e4909a262",
   "metadata": {},
   "source": [
    "# Process LevSeq\n",
    "\n",
    "Here we want to join the LevSeq output data with the function data from the LCMS."
   ]
  },
  {
   "cell_type": "code",
   "execution_count": null,
   "id": "92451b27-f0af-4e6f-ac3d-28dbacb89ab2",
   "metadata": {},
   "outputs": [],
   "source": [
    "import pandas as pd\n",
    "# get all the sequnence function files and see what those specific mutations did\n",
    "# Also did any of the other mutations appear in the H2NOH files\n",
    "import os\n",
    "from copy import deepcopy\n",
    "# Get them w.r.t to a mutation\n",
    "from scipy.stats import mannwhitneyu\n",
    "# get all the sequnence function files and see what those specific mutations did\n",
    "# Also did any of the other mutations appear in the H2NOH files\n",
    "import os\n",
    "import numpy as np\n",
    "from tqdm import tqdm\n",
    "from sciutil import SciUtil\n",
    "\n",
    "output_dir = 'output/'\n",
    "\n",
    "lineage_df = pd.read_csv('lineage_summary.tsv', sep='\\t')\n",
    "lineage_df['name'] = [f'{l}_{n}' for l, n in lineage_df[['linage', 'name']].values]\n",
    "# Keep track of the parents for the LevSeq data\n",
    "lineage_df['AA'] = [d.replace('*', '') for d in lineage_df['AA'].values]\n",
    "parent_to_name = dict(zip(lineage_df.AA, lineage_df.name))\n",
    "parents = list(set(lineage_df.AA.values))"
   ]
  },
  {
   "cell_type": "code",
   "execution_count": null,
   "id": "4e9a31a5-6284-43dd-945f-a6800b7301ea",
   "metadata": {},
   "outputs": [],
   "source": [
    "\n",
    "\n",
    "# Amino acid code conversion\n",
    "AA_DICT = {\n",
    "    \"Ala\": \"A\",\n",
    "    \"Cys\": \"C\",\n",
    "    \"Asp\": \"D\",\n",
    "    \"Glu\": \"E\",\n",
    "    \"Phe\": \"F\",\n",
    "    \"Gly\": \"G\",\n",
    "    \"His\": \"H\",\n",
    "    \"Ile\": \"I\",\n",
    "    \"Lys\": \"K\",\n",
    "    \"Leu\": \"L\",\n",
    "    \"Met\": \"M\",\n",
    "    \"Asn\": \"N\",\n",
    "    \"Pro\": \"P\",\n",
    "    \"Gln\": \"Q\",\n",
    "    \"Arg\": \"R\",\n",
    "    \"Ser\": \"S\",\n",
    "    \"Thr\": \"T\",\n",
    "    \"Val\": \"V\",\n",
    "    \"Trp\": \"W\",\n",
    "    \"Tyr\": \"Y\",\n",
    "    \"Ter\": \"*\",\n",
    "}\n",
    "\n",
    "\n",
    "def normalise_calculate_stats(processed_plate_df, value_column, normalise=\"standard\", stats_method=\"mannwhitneyu\", parent_label=\"#PARENT#\", normalise_method=\"median\", parent_to_name = None):\n",
    "    # if nomrliase normalize with standard normalisation\n",
    "    normalised_df = pd.DataFrame()\n",
    "    all_stats_df = pd.DataFrame()\n",
    "    processed_plate_df[value_column] = pd.to_numeric(processed_plate_df[value_column], errors='coerce')\n",
    "\n",
    "    for plate in set(processed_plate_df[\"barcode_plate\"].values):\n",
    "        # Normalize for each value\n",
    "        plate_parent = None\n",
    "        plate_campaign = None\n",
    "        sub_df = processed_plate_df[processed_plate_df[\"barcode_plate\"] == plate].copy()\n",
    "        parent_values = sub_df[sub_df[\"amino_acid_substitutions\"] == parent_label][value_column].values\n",
    "        if len(parent_values) == 0:\n",
    "            u.err_p(['No parent!!! skipping plate... ', plate])\n",
    "            continue\n",
    "        else:\n",
    "            plate_parent = sub_df[sub_df[\"amino_acid_substitutions\"] == parent_label]['aa_sequence'].values[0]\n",
    "            # By default use the median\n",
    "            if normalise_method == \"median\":\n",
    "                parent_mean = np.nanmedian(parent_values)\n",
    "            else:\n",
    "                parent_mean = np.nanmean(parent_values)\n",
    "            parent_sd = np.nanstd(parent_values)\n",
    "    \n",
    "            # For each plate we normalise to the parent of that plate\n",
    "            sub_df[f\"{value_column} plate standard norm\"] = (sub_df[value_column].values - parent_mean) / parent_sd\n",
    "            sub_df[f\"{value_column} fold change\"] = sub_df[value_column].values/ parent_mean\n",
    "            sub_df[f\"{value_column} parent {normalise_method}\"] = parent_mean\n",
    "            sub_df[f\"{value_column} parent SD\"] = parent_sd\n",
    "\n",
    "            norm_value_column = f\"{value_column} plate standard norm\"    \n",
    "            sd_cutoff = 1.5  # The number of standard deviations we want above the parent values\n",
    "            # Now for all the other mutations we want to look if they are significant, first we'll look at combinations and then individually\n",
    "            grouped_by_mutations = sub_df.groupby(\"amino_acid_substitutions\")\n",
    "        \n",
    "            rows = []\n",
    "            for mutation, grp in grouped_by_mutations:\n",
    "                # Get the values and then do a ranksum test\n",
    "                if mutation != parent_label:\n",
    "                    vals = list(grp[norm_value_column].values)\n",
    "                    U1, p = None, None\n",
    "                    # Now check if there are 3 otherwise we just do > X S.D over - won't be sig anyway.\n",
    "                    if len(grp) > 2:\n",
    "                        # Do stats\n",
    "                        U1, p = mannwhitneyu(parent_values, vals, method=\"exact\")\n",
    "                    if normalise_method == \"median\":\n",
    "                        mean_vals = np.nanmedian(vals)\n",
    "                    else:\n",
    "                        mean_vals = np.nanmean(vals)\n",
    "                    std_vals = np.nanstd(vals)\n",
    "                    median_vals = np.nanmedian(vals)\n",
    "                    sig = mean_vals > ((sd_cutoff * parent_sd) + parent_mean)\n",
    "                    rows.append([value_column, mutation, len(grp), mean_vals, std_vals, median_vals, (mean_vals - parent_mean)/parent_sd, sig, U1, p, plate_campaign, plate_parent, plate])\n",
    "            stats_df = pd.DataFrame(rows, columns=[\"value_column\",  \"amino_acid_substitutions\", \"number of wells with amino_acid substitutions\", \"mean\",\n",
    "                    \"std\", \"median\", \"standard normalized to parent mean\", f\"greater than > {sd_cutoff} parent\", \"man whitney U stat\",\n",
    "                    \"p-value\", 'campaign',  'parent', 'plate'],\n",
    "                )\n",
    "            all_stats_df = pd.concat([all_stats_df, stats_df])\n",
    "            normalised_df = pd.concat([normalised_df, sub_df])\n",
    "\n",
    "    return all_stats_df, normalised_df\n",
    "\n",
    "\n",
    "def get_dist(seq1, seq2):\n",
    "    seq1 = list(seq1)\n",
    "    seq2 = list(seq2)\n",
    "    dist = 0\n",
    "    if len(seq1) != len(seq2):\n",
    "        print(len(seq1), len(seq2), 'YIKES')\n",
    "    for i in range(0, len(seq1)):\n",
    "        if seq1[i] != seq2[i]:\n",
    "            dist += 1\n",
    "    #print(dist/len(seq1))\n",
    "    return dist/len(seq1)\n",
    "\n"
   ]
  },
  {
   "cell_type": "markdown",
   "id": "f898fb20-d2c7-4a39-b3ce-1ee6892aca89",
   "metadata": {},
   "source": [
    "# Process the LevSeq data and combine with function data"
   ]
  },
  {
   "cell_type": "code",
   "execution_count": null,
   "id": "6a3d3794-cb59-42fe-a25b-7e72878fcec3",
   "metadata": {},
   "outputs": [],
   "source": [
    "\n",
    "u = SciUtil()\n",
    "\n",
    "all_dfs = {}\n",
    "all_stats_dfs = pd.DataFrame()\n",
    "all_df = pd.DataFrame()\n",
    "\n",
    "for base_dir in ['LCMS/NOPiv-linage_Done', 'LCMS/H2NOH-linage_Done',]:\n",
    "    files = [f for f in os.listdir(base_dir) if '.csv' in f]\n",
    "    for f in files:\n",
    "        # Get all the sequence function files.\n",
    "        run_name = f.replace('.csv', '')\n",
    "        if os.path.exists(os.path.join(base_dir, run_name)):\n",
    "            function_files = os.listdir(os.path.join(base_dir, run_name))\n",
    "            \n",
    "            all_function_df = pd.DataFrame()\n",
    "            for function_file in function_files:\n",
    "                try:\n",
    "                    # Barcode\n",
    "                    barcode = function_file.split('.csv')[0].split('_')[-1]\n",
    "                    function_df = pd.read_csv(f'{base_dir}/{run_name}/{function_file}', header=1)\n",
    "                    # Now we want to line up the barcode with the file and then join on the wells\n",
    "                    function_df['function_well'] = [x.split('-')[-1] if isinstance(x, str) else None for x in function_df['Sample Vial Number'].values]\n",
    "                    function_df['function_barcode_plate'] = barcode\n",
    "                    u.dp([f, set(function_df['Compound Name'].values)])\n",
    "                    function_df = function_df[function_df['Compound Name'].isin(['Pdt', 'pdt'])] # We only use pdt or Pdt\n",
    "                    # Convert it to numeric \n",
    "                    function_df['Area'] = pd.to_numeric(function_df['Area'], errors='coerce')\n",
    "\n",
    "                    function_df['barcode_well'] = [f'{p}_{w}' for w, p in function_df[['function_well', 'function_barcode_plate']].values]\n",
    "                    function_df['filename'] = function_file\n",
    "                    all_function_df = pd.concat([all_function_df, function_df])\n",
    "                except:\n",
    "                    print('fuction file', function_file)\n",
    "            df = pd.read_csv(f'{base_dir}/{f}')\n",
    "            \n",
    "            df.columns = [c.lower() for c in df.columns]\n",
    "            if 'barcode_plate' not in df.columns:\n",
    "                df = df.rename(columns={'protein sequence': 'aa_sequence'})\n",
    "                df['barcode_plate'] = df['plate'].values\n",
    "\n",
    "            df['barcode_well'] = [f'{p}_{w}' for w, p in df[['well', 'barcode_plate']].values]\n",
    "            # Join the two\n",
    "            df.set_index('barcode_well', inplace=True)\n",
    "            all_function_df.set_index('barcode_well', inplace=True)\n",
    "            df = df.join(all_function_df, how='left')\n",
    "            df.reset_index(inplace=True, drop=True)\n",
    "            df['levSeq_filename'] = run_name\n",
    "            df.columns = [c.replace(' ', '_') for c in df.columns]\n",
    "            df = df[['barcode_plate',\n",
    "                     'plate',\n",
    "                     'nucleotide_mutation',\n",
    "                     'amino_acid_substitutions',\n",
    "                     'well', \n",
    "                     'average_mutation_frequency', \n",
    "                     'alignment_count',\n",
    "                     'aa_sequence',\n",
    "                     'Sample_Acq_Order_No', 'Sample_Vial_Number', 'Sample_Name',\n",
    "                     'Compound_Name', 'RT_[min]', 'Area', 'function_well',\n",
    "                     'function_barcode_plate', 'filename', 'levSeq_filename']]\n",
    "            df = df.loc[:,~df.columns.duplicated()].copy()\n",
    "            # Need to add in the fitness and the fitness_value\tsmiles_string\n",
    "            df['fitness_value'] = df['Area'].values\n",
    "            df['smiles_string'] = 'O=C(OC)C[C@H](N)C1=CC=CC=C1'\n",
    "            # Get which parent it is\n",
    "            min_dist = 1000\n",
    "            generation_name = None\n",
    "            # Will throw an error if there is no parent (but this is good because we don't want this then!)\n",
    "            aa = df[df['amino_acid_substitutions'] == '#PARENT#']['aa_sequence'].values[0].replace('*', '')\n",
    "            aa = aa.replace('*', '')\n",
    "            # For the parent get the distance - some might have 1 or 2 aa's different... i.e. in stop codon\n",
    "            for p in parents:\n",
    "                parent_dist = get_dist(p, aa)\n",
    "                if parent_dist < min_dist:\n",
    "                    min_dist = parent_dist\n",
    "                    generation_name = parent_to_name.get(p)\n",
    "                    \n",
    "            df['campaign_name'] = generation_name\n",
    "            all_dfs[run_name] = df\n",
    "\n",
    "            df = df.drop_duplicates(subset=['barcode_plate', 'well'])\n",
    "            df = df.fillna(0)\n",
    "            df.to_csv(f'{output_dir}/seqfunc/{generation_name}_{f}')\n",
    "            stats_df, df = normalise_calculate_stats(df, 'Area',\n",
    "                            normalise=\"standard\",\n",
    "                            stats_method=\"mannwhitneyu\",\n",
    "                            parent_label=\"#PARENT#\",\n",
    "                            normalise_method=\"mean\",\n",
    "                            parent_to_name = parent_to_name)\n",
    "            stats_df['levSeq_filename'] = run_name\n",
    "            all_df = pd.concat([all_df, df])\n",
    "            all_stats_dfs =  pd.concat([all_stats_dfs, stats_df])\n",
    "            u.warn_p(['Success!', run_name, generation_name, 'Distance between parent and generation:', min_dist, \n",
    "                     '\\n # non zero fitness: ', len(df[df['fitness_value'] != 0]), '\\n Size of dataset: ', len(df), \n",
    "                     '\\n # unique sustitutions: ', len(set(df['amino_acid_substitutions'].values))])\n",
    "\n",
    "all_df"
   ]
  },
  {
   "cell_type": "markdown",
   "id": "75a340c2-ccd6-4712-b96f-7eb74cdef5ac",
   "metadata": {},
   "source": [
    "# Make some summaries about the dataset\n",
    "\n",
    "First check what campaigns are represented."
   ]
  },
  {
   "cell_type": "code",
   "execution_count": null,
   "id": "d8458cd5-37ba-4f25-9079-1a153d5fb971",
   "metadata": {},
   "outputs": [],
   "source": [
    "# Remove any with no fitness data\n",
    "all_df = all_df[~all_df['Area'].isna()]\n",
    "\n",
    "# Remove non-0 fitnesses\n",
    "all_df = all_df[all_df['fitness_value'] > 0.0]\n",
    "\n",
    "all_df['campaign_name'].value_counts()"
   ]
  },
  {
   "cell_type": "code",
   "execution_count": null,
   "id": "ea872852-fb31-47d5-a531-ea94f8de372d",
   "metadata": {},
   "outputs": [],
   "source": [
    "# Next remove any values that we're not sure about i.e. low or NA in the sequenceing\n",
    "\n",
    "nn_df = all_df[all_df['amino_acid_substitutions'] != '#N.A.#']\n",
    "nn_df = nn_df[nn_df['amino_acid_substitutions'] != '#LOW#']\n",
    "nn_df = nn_df[nn_df['amino_acid_substitutions'] != 'LEN']\n",
    "nn_df = nn_df[nn_df['amino_acid_substitutions'] != '#PARENT#']\n",
    "\n",
    "nn_df['amino_acid_substitutions'].value_counts()"
   ]
  },
  {
   "cell_type": "code",
   "execution_count": null,
   "id": "52c01a9e-b5ba-4e3d-9b72-c678fccefe36",
   "metadata": {},
   "outputs": [],
   "source": [
    "len(nn_df)"
   ]
  },
  {
   "cell_type": "code",
   "execution_count": null,
   "id": "c1c73c73-a51d-491c-a8f5-8d9edb522f0c",
   "metadata": {},
   "outputs": [],
   "source": [
    "nn_df = nn_df.drop_duplicates(subset=['nucleotide_mutation', 'fitness_value'])\n",
    "nn_df"
   ]
  },
  {
   "cell_type": "markdown",
   "id": "13acf946-593b-488e-95d8-d61ab09044a2",
   "metadata": {},
   "source": [
    "# Check which positions were mutated across the campaign"
   ]
  },
  {
   "cell_type": "code",
   "execution_count": null,
   "id": "6266c4a7-2098-4887-bae2-20a90b739650",
   "metadata": {},
   "outputs": [],
   "source": [
    "# Now we want the actual number of positions we can do this by computing all numbers\n",
    "from collections import defaultdict\n",
    "positions = []\n",
    "position_dict = defaultdict(list)\n",
    "position_to_value = defaultdict(dict)\n",
    "for subs, value in nn_df[['amino_acid_substitutions', 'Area plate standard norm']].values:\n",
    "    for pos in subs.split('_'):\n",
    "        # Only keep those that weren't retained\n",
    "        positions.append(int(pos[1:-1]))\n",
    "        position_dict[int(pos[1:-1])].append(pos[-1])\n",
    "        if position_to_value[int(pos[1:-1])].get(pos[-1]):\n",
    "            value = float(value)\n",
    "            position_to_value[int(pos[1:-1])][pos[-1]].append(value)\n",
    "        else:\n",
    "            position_to_value[int(pos[1:-1])][pos[-1]] = []\n",
    "            value = float(value)\n",
    "            position_to_value[int(pos[1:-1])][pos[-1]].append(value)\n",
    "print(len(set(positions)))"
   ]
  },
  {
   "cell_type": "markdown",
   "id": "feefe07d-10a1-4f57-b8e2-8c7901835e94",
   "metadata": {},
   "source": [
    "# Check whether there are too many substitutions"
   ]
  },
  {
   "cell_type": "code",
   "execution_count": null,
   "id": "5a4c51f1-4d18-46ce-9e0f-fd80240bad8b",
   "metadata": {},
   "outputs": [],
   "source": [
    "import matplotlib.pyplot as plt\n",
    "nn_df['# substitutions'] = [len(x.split('_')) for x in nn_df['amino_acid_substitutions'].values]\n",
    "plt.hist(nn_df['# substitutions'].values, bins=20)"
   ]
  },
  {
   "cell_type": "code",
   "execution_count": null,
   "id": "a106c98b-15c8-40d2-8c74-c53848c09ceb",
   "metadata": {},
   "outputs": [],
   "source": [
    "many_subs = nn_df[nn_df['# substitutions'] > 10]\n",
    "many_subs # Great these just look like it's from StEP which is expected"
   ]
  },
  {
   "cell_type": "markdown",
   "id": "ebc6c14e-6b4b-40d0-8449-cb57a5bc3138",
   "metadata": {},
   "source": [
    "# Save these dataframes"
   ]
  },
  {
   "cell_type": "code",
   "execution_count": null,
   "id": "f7c34e54-3ff6-4f5e-aca7-d0ff1fa9f2a7",
   "metadata": {},
   "outputs": [],
   "source": [
    "all_df.to_csv(f'{output_dir}/LevSeq_CombinedDF_pdt.csv', index=False)\n",
    "nn_df.to_csv(f'{output_dir}/LevSeq_CombinedDF_pdt_filtered.csv', index=False)"
   ]
  },
  {
   "cell_type": "markdown",
   "id": "3e818fb9-cdc0-4c0e-b621-ad7f6e4b4fc9",
   "metadata": {},
   "source": [
    "# Deduplicate variants to run folding on"
   ]
  },
  {
   "cell_type": "code",
   "execution_count": null,
   "id": "78792172-0547-4582-9af9-7a8ee7c8b637",
   "metadata": {},
   "outputs": [],
   "source": [
    "nn_df = nn_df.sort_values(by='Area fold change', ascending=False)\n",
    "len(set(nn_df['aa_sequence'].values)) # Have a look at all the unique proteins"
   ]
  },
  {
   "cell_type": "code",
   "execution_count": null,
   "id": "2ba33d7c-5f74-4647-9dcd-a3ac6a9d6618",
   "metadata": {},
   "outputs": [],
   "source": [
    "nn_df['aa_sequence'] = [a.replace('*', '') for a in nn_df['aa_sequence'].values]\n",
    "nn_df['name'] = [f'{c}_{i}' for i, c in enumerate(nn_df['campaign_name'].values)]\n",
    "dedup = nn_df.drop_duplicates(subset=['aa_sequence'])\n",
    "for seq in dedup['aa_sequence'].values:\n",
    "    if 'LEHHHHHH' not in seq:\n",
    "        print(seq)"
   ]
  },
  {
   "cell_type": "code",
   "execution_count": null,
   "id": "a8f9ff95-29f5-40a2-8b55-d538b695a78a",
   "metadata": {},
   "outputs": [],
   "source": [
    "dedup.to_csv(f'{output_dir}/LevSeq_unique_variants.csv', index=False)"
   ]
  },
  {
   "cell_type": "code",
   "execution_count": null,
   "id": "8516370b-fcff-465e-945f-c937a754e749",
   "metadata": {},
   "outputs": [],
   "source": [
    "dedup"
   ]
  },
  {
   "cell_type": "markdown",
   "id": "e3cc98a7-183b-425b-b07a-c2767489d80c",
   "metadata": {},
   "source": [
    "# Run folding with the substrate and intermediate\n",
    "\n",
    "```\n",
    "import sys\n",
    "from enzymetk.dock_boltz_step import Boltz\n",
    "from enzymetk.save_step import Save\n",
    "import pandas as pd\n",
    "import os\n",
    "os.environ['MKL_THREADING_LAYER'] = 'GNU'\n",
    "\n",
    "output_dir = 'boltz_26062025'\n",
    "num_threads = 5\n",
    "id_col = 'name'\n",
    "seq_col = 'aa_sequence'\n",
    "substrate_col = 'Substrate'\n",
    "intermediate_col = 'Intermediate'\n",
    "df = pd.read_csv('../output/LevSeq_unique_variants.csv')\n",
    "df[substrate_col] = \"O=C(OC)CCC1=CC=CC=C1\"\n",
    "df[intermediate_col] = str(r\"CC1=C(/C2=C/C3=N/C(C(C)=C3CCC(O)=O)=C\\C4=C(C(C=C)=C(/C=C5N=C(C(C=C)=C\\5C)/C=C1\\N26)N4[Fe]6=N)C)CCC(O)=O\")\n",
    "\n",
    "df << (Boltz(id_col, seq_col, substrate_col, intermediate_col, f'{output_dir}', num_threads) >> Save(f'{output_dir}filenames.pkl'))\n",
    "\n",
    "```"
   ]
  }
 ],
 "metadata": {
  "kernelspec": {
   "display_name": "Python 3 (ipykernel)",
   "language": "python",
   "name": "python3"
  },
  "language_info": {
   "codemirror_mode": {
    "name": "ipython",
    "version": 3
   },
   "file_extension": ".py",
   "mimetype": "text/x-python",
   "name": "python",
   "nbconvert_exporter": "python",
   "pygments_lexer": "ipython3",
   "version": "3.10.15"
  }
 },
 "nbformat": 4,
 "nbformat_minor": 5
}
